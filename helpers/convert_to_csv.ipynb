{
 "cells": [
  {
   "cell_type": "code",
   "execution_count": 46,
   "metadata": {},
   "outputs": [],
   "source": [
    "import sqlite3\n",
    "import pandas as pd\n",
    "import altair\n",
    "\n",
    "dataset = \"database.sqlite\"\n",
    "connection = sqlite3.connect(dataset)"
   ]
  },
  {
   "cell_type": "code",
   "execution_count": 61,
   "metadata": {},
   "outputs": [
    {
     "data": {
      "text/plain": [
       "['Player_Attributes',\n",
       " 'Player',\n",
       " 'Match',\n",
       " 'League',\n",
       " 'Country',\n",
       " 'Team',\n",
       " 'Team_Attributes']"
      ]
     },
     "execution_count": 61,
     "metadata": {},
     "output_type": "execute_result"
    }
   ],
   "source": [
    "tables_df = pd.read_sql_query(\"select * from sqlite_master where type='table'\", connection)\n",
    "table_names = tables_df['name'].tolist()\n",
    "\n",
    "table_names.remove('sqlite_sequence')\n",
    "table_names"
   ]
  },
  {
   "cell_type": "code",
   "execution_count": 62,
   "metadata": {
    "scrolled": true
   },
   "outputs": [
    {
     "name": "stdout",
     "output_type": "stream",
     "text": [
      "CREATING Player_Attributes DATAFRAME\n",
      "\t DONE\n",
      "CREATING Player DATAFRAME\n",
      "\t DONE\n",
      "CREATING Match DATAFRAME\n",
      "\t DONE\n",
      "CREATING League DATAFRAME\n",
      "\t DONE\n",
      "CREATING Country DATAFRAME\n",
      "\t DONE\n",
      "CREATING Team DATAFRAME\n",
      "\t DONE\n",
      "CREATING Team_Attributes DATAFRAME\n",
      "\t DONE\n"
     ]
    },
    {
     "data": {
      "text/plain": [
       "['player_attributes_df',\n",
       " 'player_df',\n",
       " 'match_df',\n",
       " 'league_df',\n",
       " 'country_df',\n",
       " 'team_df',\n",
       " 'team_attributes_df']"
      ]
     },
     "execution_count": 62,
     "metadata": {},
     "output_type": "execute_result"
    }
   ],
   "source": [
    "df_names = []\n",
    "def create_df(table_name:str):\n",
    "    df_name = \"{}_df\".format(table_name.lower())\n",
    "    df_names.append(df_name)\n",
    "    globals()[df_name] = pd.read_sql_query(\"select * from {}\".format(table_name), connection)\n",
    "\n",
    "for table_name in table_names:\n",
    "    print(\"CREATING {} DATAFRAME\".format(table_name))\n",
    "    create_df(table_name)\n",
    "    print(\"\\t DONE\")\n",
    "\n",
    "df_names"
   ]
  },
  {
   "cell_type": "code",
   "execution_count": 64,
   "metadata": {},
   "outputs": [],
   "source": [
    "#save dfs as csv\n",
    "for df_name in df_names:\n",
    "    globals()[df_name].to_csv(\"{}.csv\".format(df_name))"
   ]
  },
  {
   "cell_type": "code",
   "execution_count": null,
   "metadata": {},
   "outputs": [],
   "source": []
  }
 ],
 "metadata": {
  "kernelspec": {
   "display_name": "Python 3",
   "language": "python",
   "name": "python3"
  },
  "language_info": {
   "codemirror_mode": {
    "name": "ipython",
    "version": 3
   },
   "file_extension": ".py",
   "mimetype": "text/x-python",
   "name": "python",
   "nbconvert_exporter": "python",
   "pygments_lexer": "ipython3",
   "version": "3.6.4"
  }
 },
 "nbformat": 4,
 "nbformat_minor": 2
}
