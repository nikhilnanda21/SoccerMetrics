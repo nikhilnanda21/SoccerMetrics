{
 "cells": [
  {
   "cell_type": "code",
   "execution_count": 8,
   "metadata": {},
   "outputs": [],
   "source": [
    "import sqlite3\n",
    "import pandas as pd\n",
    "import altair\n",
    "\n",
    "dataset = \"../database.sqlite\"\n",
    "connection = sqlite3.connect(dataset)"
   ]
  },
  {
   "cell_type": "code",
   "execution_count": 9,
   "metadata": {},
   "outputs": [
    {
     "name": "stdout",
     "output_type": "stream",
     "text": [
      "<bound method NDFrame.head of     type               name           tbl_name  rootpage  \\\n",
      "0  table    sqlite_sequence    sqlite_sequence         4   \n",
      "1  table  Player_Attributes  Player_Attributes        11   \n",
      "2  table             Player             Player        14   \n",
      "3  table              Match              Match        18   \n",
      "4  table             League             League        24   \n",
      "5  table            Country            Country        26   \n",
      "6  table               Team               Team        29   \n",
      "7  table    Team_Attributes    Team_Attributes         2   \n",
      "\n",
      "                                                 sql  \n",
      "0             CREATE TABLE sqlite_sequence(name,seq)  \n",
      "1  CREATE TABLE \"Player_Attributes\" (\\n\\t`id`\\tIN...  \n",
      "2  CREATE TABLE `Player` (\\n\\t`id`\\tINTEGER PRIMA...  \n",
      "3  CREATE TABLE `Match` (\\n\\t`id`\\tINTEGER PRIMAR...  \n",
      "4  CREATE TABLE `League` (\\n\\t`id`\\tINTEGER PRIMA...  \n",
      "5  CREATE TABLE `Country` (\\n\\t`id`\\tINTEGER PRIM...  \n",
      "6  CREATE TABLE \"Team\" (\\n\\t`id`\\tINTEGER PRIMARY...  \n",
      "7  CREATE TABLE `Team_Attributes` (\\n\\t`id`\\tINTE...  >\n"
     ]
    },
    {
     "data": {
      "text/plain": [
       "['Player_Attributes',\n",
       " 'Player',\n",
       " 'Match',\n",
       " 'League',\n",
       " 'Country',\n",
       " 'Team',\n",
       " 'Team_Attributes']"
      ]
     },
     "execution_count": 9,
     "metadata": {},
     "output_type": "execute_result"
    }
   ],
   "source": [
    "tables_df = pd.read_sql_query(\"select * from sqlite_master where type='table'\", connection)\n",
    "table_names = tables_df['name'].tolist()\n",
    "table_names.remove('sqlite_sequence')\n",
    "table_names"
   ]
  },
  {
   "cell_type": "code",
   "execution_count": 10,
   "metadata": {
    "scrolled": true
   },
   "outputs": [
    {
     "name": "stdout",
     "output_type": "stream",
     "text": [
      "CREATING Player_Attributes DATAFRAME\n",
      "\t DONE\n",
      "CREATING Player DATAFRAME\n",
      "\t DONE\n",
      "CREATING Match DATAFRAME\n",
      "\t DONE\n",
      "CREATING League DATAFRAME\n",
      "\t DONE\n",
      "CREATING Country DATAFRAME\n",
      "\t DONE\n",
      "CREATING Team DATAFRAME\n",
      "\t DONE\n",
      "CREATING Team_Attributes DATAFRAME\n",
      "\t DONE\n"
     ]
    },
    {
     "data": {
      "text/plain": [
       "['player_attributes_df',\n",
       " 'player_df',\n",
       " 'match_df',\n",
       " 'league_df',\n",
       " 'country_df',\n",
       " 'team_df',\n",
       " 'team_attributes_df']"
      ]
     },
     "execution_count": 10,
     "metadata": {},
     "output_type": "execute_result"
    }
   ],
   "source": [
    "df_names = []\n",
    "def create_df(table_name:str):\n",
    "    df_name = \"{}_df\".format(table_name.lower())\n",
    "    df_names.append(df_name)\n",
    "    globals()[df_name] = pd.read_sql_query(\"select * from {}\".format(table_name), connection)\n",
    "\n",
    "for table_name in table_names:\n",
    "    print(\"CREATING {} DATAFRAME\".format(table_name))\n",
    "    create_df(table_name)\n",
    "    print(\"\\t DONE\")\n",
    "\n",
    "df_names"
   ]
  },
  {
   "cell_type": "code",
   "execution_count": 15,
   "metadata": {
    "scrolled": true
   },
   "outputs": [],
   "source": [
    "#save dfs as csv\n",
    "import os\n",
    "\n",
    "if not os.path.exists(\"../csv_files\"):\n",
    "    os.mkdir(\"../csv_files\")\n",
    "    \n",
    "for df_name in df_names:\n",
    "    globals()[df_name].to_csv(\"../csv_files/{}.csv\".format(df_name[:df_name.find('_df')]))"
   ]
  },
  {
   "cell_type": "code",
   "execution_count": null,
   "metadata": {},
   "outputs": [],
   "source": []
  }
 ],
 "metadata": {
  "kernelspec": {
   "display_name": "Python 3",
   "language": "python",
   "name": "python3"
  },
  "language_info": {
   "codemirror_mode": {
    "name": "ipython",
    "version": 3
   },
   "file_extension": ".py",
   "mimetype": "text/x-python",
   "name": "python",
   "nbconvert_exporter": "python",
   "pygments_lexer": "ipython3",
   "version": "3.6.4"
  }
 },
 "nbformat": 4,
 "nbformat_minor": 2
}
