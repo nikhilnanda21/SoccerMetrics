{
 "cells": [
  {
   "cell_type": "markdown",
   "metadata": {},
   "source": [
    "## Imports and Data"
   ]
  },
  {
   "cell_type": "code",
   "execution_count": 2,
   "metadata": {},
   "outputs": [],
   "source": [
    "import pandas as pd\n",
    "import seaborn as sns\n",
    "import matplotlib.pyplot as plt\n",
    "\n",
    "england_matches = pd.read_json('new_data/matches/matches_England.json')\n",
    "teams = pd.read_json('new_data/teams.json')\n",
    "england_events = pd.read_json('new_data/events/events_England.json')\n",
    "players = pd.read_json('new_data/players.json')"
   ]
  },
  {
   "cell_type": "markdown",
   "metadata": {},
   "source": [
    "## Team Analysis\n",
    "### Team class for accessing team attributes (id, matches, players, events etc.) \n"
   ]
  },
  {
   "cell_type": "code",
   "execution_count": 3,
   "metadata": {},
   "outputs": [],
   "source": [
    "class team:\n",
    "    def __init__(self, name:str):\n",
    "        self.name = name\n",
    "        self.team_id = self.get_team_id()\n",
    "        self.matches = self.get_matches()\n",
    "        self.players = self.get_players()\n",
    "        self.all_events = self.get_all_events()\n",
    "    \n",
    "    def get_team_id(self):\n",
    "        return int(teams[teams['name'] == self.name]['wyId'])\n",
    "        \n",
    "    def get_matches(self, opposition_team=None):\n",
    "        matches = pd.DataFrame(columns=england_matches.columns)\n",
    "        specific_matches = pd.DataFrame(columns=england_matches.columns)\n",
    "        \n",
    "        for index,row in england_matches.iterrows():\n",
    "            teams_in_match = [int(team) for team in list(row['teamsData'].keys())]\n",
    "            if opposition_team is None:\n",
    "                if self.team_id in teams_in_match:\n",
    "                    matches = matches.append(row)\n",
    "            else:\n",
    "                if self.team_id in teams_in_match and opposition_team.team_id in teams_in_match:\n",
    "                    specific_matches = specific_matches.append(row)\n",
    "                \n",
    "        if opposition_team is None:     \n",
    "            return matches\n",
    "        else:\n",
    "            return specific_matches\n",
    "    \n",
    "    def get_players(self):\n",
    "        return players[players['currentTeamId'] == self.team_id]\n",
    "    \n",
    "    def get_all_events(self):\n",
    "        return england_events[england_events['teamId'] == self.team_id]"
   ]
  },
  {
   "cell_type": "markdown",
   "metadata": {},
   "source": [
    "## Graphics Generation"
   ]
  },
  {
   "cell_type": "code",
   "execution_count": 11,
   "metadata": {
    "scrolled": true
   },
   "outputs": [],
   "source": [
    "from matplotlib.patches import Arc\n",
    "\n",
    "def draw_pitch():\n",
    "    fig = plt.figure()\n",
    "    fig.set_size_inches(14,7)\n",
    "\n",
    "    ax = plt.subplot(111)\n",
    "    \n",
    "    #touchline\n",
    "    plt.plot([0,0], [-5,105], 'k') #left length\n",
    "    plt.plot([0,100], [105,105], 'k') #upper width\n",
    "    plt.plot([100,100], [-5,105], 'k') #right length\n",
    "    plt.plot([100,0], [-5,-5], 'k') #lower width\n",
    "    plt.plot([50,50], [-5,105], 'k') #halfway line\n",
    "\n",
    "    #center\n",
    "    center_circle = plt.Circle((50,50), radius=7, color='black', fill=False)\n",
    "    center_spot = plt.Circle((50,50), radius=0.7, color='black', fill=True)\n",
    "    ax.add_artist(center_circle)\n",
    "    ax.add_artist(center_spot)\n",
    "\n",
    "    #left 18 yard box\n",
    "    plt.plot([0,12], [32,32], 'k')\n",
    "    plt.plot([0,12], [69,69], 'k')\n",
    "    plt.plot([12,12], [32,69], 'k')\n",
    "    left_d = Arc((6, 50), width=18.3, height=20, theta1=310, theta2=50, color='black')\n",
    "    ax.add_patch(left_d)\n",
    "\n",
    "    #left 6 yard box\n",
    "    plt.plot([0,4], [41.25,41.25], 'k')\n",
    "    plt.plot([0,4], [59.75,59.75], 'k')\n",
    "    plt.plot([4,4], [59.75,41.25], 'k')\n",
    "\n",
    "    #right 18 yard box\n",
    "    plt.plot([100,88], [32,32], 'k')\n",
    "    plt.plot([100,88], [69,69], 'k')\n",
    "    plt.plot([88,88], [32,69], 'k')\n",
    "    right_d = Arc((94, 50), width=18.3, height=20, theta1=130, theta2=230, color='black')\n",
    "    ax.add_patch(right_d)\n",
    "\n",
    "    #right 6 yard box\n",
    "    plt.plot([100,96], [41.25,41.25], 'k')\n",
    "    plt.plot([100,96], [59.75,59.75], 'k')\n",
    "    plt.plot([96,96], [59.75,41.25], 'k')\n",
    "\n",
    "#dataframe should be an 'events' dataframe\n",
    "def draw_heatmap(dataframe):\n",
    "    sns.kdeplot(dataframe['x_start'], dataframe['y_start'], shade=True, shade_lowest=False, cmap='Greens', n_levels = 30)\n",
    "    plt.xlim, plt.ylim = (0,100), (0,100)\n",
    "\n",
    "    plt.axis('off')\n",
    "    plt.show()"
   ]
  },
  {
   "cell_type": "markdown",
   "metadata": {},
   "source": [
    "## Dashboard"
   ]
  },
  {
   "cell_type": "code",
   "execution_count": 68,
   "metadata": {},
   "outputs": [
    {
     "data": {
      "application/vnd.jupyter.widget-view+json": {
       "model_id": "65be7cda7d4542e7a626c0f0ff29166c",
       "version_major": 2,
       "version_minor": 0
      },
      "text/plain": [
       "interactive(children=(Dropdown(description='Team 1:', options=('Newcastle United', 'Huddersfield Town', 'AFC B…"
      ]
     },
     "metadata": {},
     "output_type": "display_data"
    },
    {
     "data": {
      "text/plain": [
       "<function __main__.select_teams(team_1_selector, team_2_selector)>"
      ]
     },
     "execution_count": 68,
     "metadata": {},
     "output_type": "execute_result"
    }
   ],
   "source": [
    "from ipywidgets import interact, interactive, interact_manual, widgets\n",
    "import warnings \n",
    "warnings.filterwarnings('ignore')\n",
    "\n",
    "team_1, team_2 = None, None\n",
    "matches = None\n",
    "target_match = None\n",
    "target_team = None\n",
    "\n",
    "england_teams = pd.DataFrame(columns=teams.columns)\n",
    "for index,row in teams.iterrows():\n",
    "    if row['area']['name'] == 'England':\n",
    "        england_teams = england_teams.append(row)\n",
    "team_selector_options = england_teams['name'].tolist()\n",
    "\n",
    "team_1_selector = widgets.Dropdown(options=team_selector_options, description='Team 1:')\n",
    "team_2_selector = widgets.Dropdown(options=team_selector_options, description='Team 2:')\n",
    "\n",
    "def select_teams(team_1_selector, team_2_selector):\n",
    "    global team_1, team_2, matches\n",
    "    \n",
    "    team_1 = team(team_1_selector)\n",
    "    team_2 = team(team_2_selector)\n",
    "    matches = team_1.get_matches(team_2)\n",
    "    \n",
    "    match_selector = widgets.Dropdown(options=matches['label'].tolist(), description='Match')\n",
    "    interact(select_match, match_selector=match_selector)\n",
    "    \n",
    "def select_match(match_selector) -> pd.DataFrame:\n",
    "    global matches, target_match, team_1, team_2\n",
    "    \n",
    "    target_match = matches[matches['label'] == match_selector]\n",
    "#     display(target_match)\n",
    "    target_team_selector = widgets.Dropdown(options=[team_1.name, team_2.name], description='Target Team')\n",
    "    target_team_selector = interact(select_team, team_selector=target_team_selector)\n",
    "\n",
    "def select_team(team_selector):\n",
    "    global team_1, team_2, target_match, target_team\n",
    "    \n",
    "    target_team = team_1 if team_selector == team_1.name else team_2\n",
    "    range_selector = widgets.SelectionRangeSlider(options=[0,45,90], index=(0, 2), description='Interval', disabled=False)\n",
    "    interact(select_range, range_selector=range_selector)\n",
    "    \n",
    "def select_range(range_selector):\n",
    "    global target_team, target_match\n",
    "    \n",
    "    events = target_team.all_events[target_team.all_events['matchId'] == int(target_match['wyId'])]\n",
    "    events = events[events['eventSec'] >= range_selector[0] * 60]\n",
    "    events = events[events['eventSec'] <= range_selector[1] * 60]\n",
    "    passes = events[events['eventName'] == 'Pass']\n",
    "    passes['x_start'] = passes.apply(lambda row: row['positions'][0]['x'], axis=1)\n",
    "    passes['y_start'] = passes.apply(lambda row: row['positions'][0]['y'], axis=1)\n",
    "    \n",
    "    draw_pitch()\n",
    "    draw_heatmap(passes)\n",
    "    \n",
    "interact_manual(select_teams, team_1_selector=team_1_selector, team_2_selector=team_2_selector)"
   ]
  },
  {
   "cell_type": "code",
   "execution_count": 59,
   "metadata": {},
   "outputs": [
    {
     "data": {
      "text/html": [
       "<div>\n",
       "<style scoped>\n",
       "    .dataframe tbody tr th:only-of-type {\n",
       "        vertical-align: middle;\n",
       "    }\n",
       "\n",
       "    .dataframe tbody tr th {\n",
       "        vertical-align: top;\n",
       "    }\n",
       "\n",
       "    .dataframe thead th {\n",
       "        text-align: right;\n",
       "    }\n",
       "</style>\n",
       "<table border=\"1\" class=\"dataframe\">\n",
       "  <thead>\n",
       "    <tr style=\"text-align: right;\">\n",
       "      <th></th>\n",
       "      <th>area</th>\n",
       "      <th>category</th>\n",
       "      <th>city</th>\n",
       "      <th>gender</th>\n",
       "      <th>name</th>\n",
       "      <th>officialName</th>\n",
       "      <th>type</th>\n",
       "      <th>wyId</th>\n",
       "    </tr>\n",
       "  </thead>\n",
       "  <tbody>\n",
       "    <tr>\n",
       "      <th>0</th>\n",
       "      <td>{'alpha2code': '', 'name': 'England', 'alpha3c...</td>\n",
       "      <td>default</td>\n",
       "      <td>Newcastle upon Tyne</td>\n",
       "      <td>male</td>\n",
       "      <td>Newcastle United</td>\n",
       "      <td>Newcastle United FC</td>\n",
       "      <td>club</td>\n",
       "      <td>1613</td>\n",
       "    </tr>\n",
       "    <tr>\n",
       "      <th>1</th>\n",
       "      <td>{'alpha2code': 'ES', 'name': 'Spain', 'alpha3c...</td>\n",
       "      <td>default</td>\n",
       "      <td>Vigo</td>\n",
       "      <td>male</td>\n",
       "      <td>Celta de Vigo</td>\n",
       "      <td>Real Club Celta de Vigo</td>\n",
       "      <td>club</td>\n",
       "      <td>692</td>\n",
       "    </tr>\n",
       "    <tr>\n",
       "      <th>2</th>\n",
       "      <td>{'alpha2code': 'ES', 'name': 'Spain', 'alpha3c...</td>\n",
       "      <td>default</td>\n",
       "      <td>Barcelona</td>\n",
       "      <td>male</td>\n",
       "      <td>Espanyol</td>\n",
       "      <td>Reial Club Deportiu Espanyol</td>\n",
       "      <td>club</td>\n",
       "      <td>691</td>\n",
       "    </tr>\n",
       "    <tr>\n",
       "      <th>3</th>\n",
       "      <td>{'alpha2code': 'ES', 'name': 'Spain', 'alpha3c...</td>\n",
       "      <td>default</td>\n",
       "      <td>Vitoria-Gasteiz</td>\n",
       "      <td>male</td>\n",
       "      <td>Deportivo Alav\\u00e9s</td>\n",
       "      <td>Deportivo Alav\\u00e9s</td>\n",
       "      <td>club</td>\n",
       "      <td>696</td>\n",
       "    </tr>\n",
       "    <tr>\n",
       "      <th>4</th>\n",
       "      <td>{'alpha2code': 'ES', 'name': 'Spain', 'alpha3c...</td>\n",
       "      <td>default</td>\n",
       "      <td>Valencia</td>\n",
       "      <td>male</td>\n",
       "      <td>Levante</td>\n",
       "      <td>Levante UD</td>\n",
       "      <td>club</td>\n",
       "      <td>695</td>\n",
       "    </tr>\n",
       "  </tbody>\n",
       "</table>\n",
       "</div>"
      ],
      "text/plain": [
       "                                                area category  \\\n",
       "0  {'alpha2code': '', 'name': 'England', 'alpha3c...  default   \n",
       "1  {'alpha2code': 'ES', 'name': 'Spain', 'alpha3c...  default   \n",
       "2  {'alpha2code': 'ES', 'name': 'Spain', 'alpha3c...  default   \n",
       "3  {'alpha2code': 'ES', 'name': 'Spain', 'alpha3c...  default   \n",
       "4  {'alpha2code': 'ES', 'name': 'Spain', 'alpha3c...  default   \n",
       "\n",
       "                  city gender                   name  \\\n",
       "0  Newcastle upon Tyne   male       Newcastle United   \n",
       "1                 Vigo   male          Celta de Vigo   \n",
       "2            Barcelona   male               Espanyol   \n",
       "3      Vitoria-Gasteiz   male  Deportivo Alav\\u00e9s   \n",
       "4             Valencia   male                Levante   \n",
       "\n",
       "                   officialName  type  wyId  \n",
       "0           Newcastle United FC  club  1613  \n",
       "1       Real Club Celta de Vigo  club   692  \n",
       "2  Reial Club Deportiu Espanyol  club   691  \n",
       "3         Deportivo Alav\\u00e9s  club   696  \n",
       "4                    Levante UD  club   695  "
      ]
     },
     "execution_count": 59,
     "metadata": {},
     "output_type": "execute_result"
    }
   ],
   "source": [
    "teams.head()"
   ]
  },
  {
   "cell_type": "code",
   "execution_count": null,
   "metadata": {},
   "outputs": [],
   "source": []
  }
 ],
 "metadata": {
  "kernelspec": {
   "display_name": "Python 3",
   "language": "python",
   "name": "python3"
  },
  "language_info": {
   "codemirror_mode": {
    "name": "ipython",
    "version": 3
   },
   "file_extension": ".py",
   "mimetype": "text/x-python",
   "name": "python",
   "nbconvert_exporter": "python",
   "pygments_lexer": "ipython3",
   "version": "3.6.4"
  }
 },
 "nbformat": 4,
 "nbformat_minor": 2
}
