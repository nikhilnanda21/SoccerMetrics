{
 "cells": [
  {
   "cell_type": "markdown",
   "metadata": {},
   "source": [
    "## Imports and Data"
   ]
  },
  {
   "cell_type": "code",
   "execution_count": 86,
   "metadata": {},
   "outputs": [],
   "source": [
    "import pandas as pd\n",
    "import seaborn as sns\n",
    "import matplotlib.pyplot as plt\n",
    "\n",
    "england_matches = pd.read_json('new_data/matches/matches_England.json')\n",
    "teams = pd.read_json('new_data/teams.json')\n",
    "england_events = pd.read_json('new_data/events/events_England.json')\n",
    "players = pd.read_json('new_data/players.json')"
   ]
  },
  {
   "cell_type": "markdown",
   "metadata": {},
   "source": [
    "## Team Analysis\n",
    "### Team class for accessing team attributes (id, matches, players, events etc.) \n"
   ]
  },
  {
   "cell_type": "code",
   "execution_count": 87,
   "metadata": {},
   "outputs": [],
   "source": [
    "class team:\n",
    "    def __init__(self, name:str):\n",
    "        self.name = name\n",
    "        self.team_id = self.get_team_id()\n",
    "        self.matches = self.get_matches()\n",
    "        self.players = self.get_players()\n",
    "        self.all_events = self.get_all_events()\n",
    "    \n",
    "    def get_team_id(self):\n",
    "        return int(teams[teams['name'] == self.name]['wyId'])\n",
    "        \n",
    "    def get_matches(self, opposition_team:team=None):\n",
    "        matches = pd.DataFrame(columns=england_matches.columns)\n",
    "        specific_matches = pd.DataFrame(columns=england_matches.columns)\n",
    "        \n",
    "        for index,row in england_matches.iterrows():\n",
    "            teams_in_match = [int(team) for team in list(row['teamsData'].keys())]\n",
    "            if opposition_team is None:\n",
    "                if self.team_id in teams_in_match:\n",
    "                    matches = matches.append(row)\n",
    "            else:\n",
    "                if self.team_id in teams_in_match and opposition_team.team_id in teams_in_match:\n",
    "                    specific_matches = specific_matches.append(row)\n",
    "                \n",
    "        if opposition_team is None:     \n",
    "            return matches\n",
    "        else:\n",
    "            return specific_matches\n",
    "    \n",
    "    def get_players(self):\n",
    "        return players[players['currentTeamId'] == self.team_id]\n",
    "    \n",
    "    def get_players_in_match(self, match_id:int):\n",
    "        target_match_events = self.all_events[self.all_events['matchId'] == match_id]\n",
    "        target_match_player_ids = list(set(target_match_events['playerId'].tolist()))\n",
    "        target_match_players = self.players[self.players['wyId'].isin(target_match_player_ids)]\n",
    "        return target_match_players\n",
    "    \n",
    "    def get_all_events(self):\n",
    "        return england_events[england_events['teamId'] == self.team_id]\n"
   ]
  },
  {
   "cell_type": "markdown",
   "metadata": {},
   "source": [
    "## Graphics Generation"
   ]
  },
  {
   "cell_type": "code",
   "execution_count": 199,
   "metadata": {
    "scrolled": true
   },
   "outputs": [],
   "source": [
    "from matplotlib.patches import Arc\n",
    "\n",
    "kde_plot = None\n",
    "\n",
    "def draw_pitch(match=None, team=None, player=None, event=None):\n",
    "    global ax\n",
    "    \n",
    "    fig = plt.figure()\n",
    "    fig.set_size_inches(14,7)\n",
    "\n",
    "    ax = plt.subplot(111)\n",
    "    \n",
    "    ax.set_title('{} \\n {} - {} - {}'.format(match, team, player, event), fontsize=20)\n",
    "    \n",
    "    #touchline\n",
    "    plt.plot([0,0], [-5,105], 'k') #left length\n",
    "    plt.plot([0,100], [105,105], 'k') #upper width\n",
    "    plt.plot([100,100], [-5,105], 'k') #right length\n",
    "    plt.plot([100,0], [-5,-5], 'k') #lower width\n",
    "    plt.plot([50,50], [-5,105], 'k') #halfway line\n",
    "\n",
    "    #center\n",
    "    center_circle = plt.Circle((50,50), radius=7, color='black', fill=False)\n",
    "    center_spot = plt.Circle((50,50), radius=0.7, color='black', fill=True)\n",
    "    ax.add_artist(center_circle)\n",
    "    ax.add_artist(center_spot)\n",
    "\n",
    "    #left 18 yard box\n",
    "    plt.plot([0,12], [32,32], 'k')\n",
    "    plt.plot([0,12], [69,69], 'k')\n",
    "    plt.plot([12,12], [32,69], 'k')\n",
    "    left_d = Arc((6, 50), width=18.3, height=20, theta1=310, theta2=50, color='black')\n",
    "    ax.add_patch(left_d)\n",
    "\n",
    "    #left 6 yard box\n",
    "    plt.plot([0,4], [41.25,41.25], 'k')\n",
    "    plt.plot([0,4], [59.75,59.75], 'k')\n",
    "    plt.plot([4,4], [59.75,41.25], 'k')\n",
    "\n",
    "    #right 18 yard box\n",
    "    plt.plot([100,88], [32,32], 'k')\n",
    "    plt.plot([100,88], [69,69], 'k')\n",
    "    plt.plot([88,88], [32,69], 'k')\n",
    "    right_d = Arc((94, 50), width=18.3, height=20, theta1=130, theta2=230, color='black')\n",
    "    ax.add_patch(right_d)\n",
    "\n",
    "    #right 6 yard box\n",
    "    plt.plot([100,96], [41.25,41.25], 'k')\n",
    "    plt.plot([100,96], [59.75,59.75], 'k')\n",
    "    plt.plot([96,96], [59.75,41.25], 'k')\n",
    "    \n",
    "    return fig, ax\n",
    "\n",
    "#dataframe should be an 'events' dataframe\n",
    "def draw_heatmap(dataframe):\n",
    "    global kde_plot\n",
    "    kde_plot = sns.kdeplot(dataframe['x_start'], dataframe['y_start'], clip=((0,100), (-5,105)), shade=True, shade_lowest=False, cmap='Greens', n_levels = 20)\n",
    "    plt.axis('off')\n",
    "\n",
    "def draw_scatter(dataframe):\n",
    "    global kde_plot\n",
    "    sns.scatterplot(dataframe['x_start'], dataframe['y_start'])\n",
    "    plt.axis('off')\n",
    "\n",
    "# plt.show()"
   ]
  },
  {
   "cell_type": "markdown",
   "metadata": {},
   "source": [
    "## Dashboard"
   ]
  },
  {
   "cell_type": "code",
   "execution_count": 201,
   "metadata": {
    "scrolled": false
   },
   "outputs": [],
   "source": [
    "from ipywidgets import interact, interactive, interact_manual, widgets, Layout\n",
    "import warnings \n",
    "warnings.filterwarnings('ignore')\n",
    "\n",
    "def team_view_dashboard():\n",
    "    #global variables whose values will be updated with every successive selection : filtering achieved through modification of these global vars\n",
    "    team_1, team_2 = None, None\n",
    "    matches = None\n",
    "    target_match = None\n",
    "    target_team = None\n",
    "    target_player = None\n",
    "    events = None\n",
    "    selected_events = None\n",
    "    target_events = None\n",
    "\n",
    "    #First selector that user sees is team selector : get its options\n",
    "    england_teams = pd.DataFrame(columns=teams.columns)\n",
    "    for index,row in teams.iterrows():\n",
    "        if row['area']['name'] == 'England':\n",
    "            england_teams = england_teams.append(row)\n",
    "    team_selector_options = sorted(england_teams['name'].tolist())\n",
    "\n",
    "    #create team selectors - first interactive element to be called, invocation is on last line \n",
    "    team_1_selector = widgets.Dropdown(options=team_selector_options, description='Team 1:')\n",
    "    team_2_selector = widgets.Dropdown(options=team_selector_options, description='Team 2:')\n",
    "\n",
    "    def select_teams(team_1_selector, team_2_selector):\n",
    "        global team_1, team_2, matches\n",
    "\n",
    "        team_1 = team(team_1_selector)\n",
    "        team_2 = team(team_2_selector)\n",
    "        matches = team_1.get_matches(team_2)\n",
    "\n",
    "        #teams selected, call match selector to select one of 2 matches between them\n",
    "        match_selector = widgets.Dropdown(options=matches['label'].tolist(), description='Match:', layout=Layout(margin='0px 0px 0px -3px'))\n",
    "        interact(select_match, match_selector=match_selector)\n",
    "\n",
    "    def select_match(match_selector) -> pd.DataFrame:\n",
    "        global matches, target_match, team_1, team_2\n",
    "\n",
    "        target_match = matches[matches['label'] == match_selector]\n",
    "        display(target_match) #for debugging\n",
    "    \n",
    "        #match selected, select which team in match to analyse\n",
    "        target_team_selector = widgets.Dropdown(options=[team_1.name, team_2.name], description='Target Team:', layout=Layout(margin='0px 0px 0px -8px'))\n",
    "        interact(select_team, team_selector=target_team_selector)\n",
    "\n",
    "    def select_team(team_selector):\n",
    "        global team_1, team_2, target_match, target_team, events\n",
    "\n",
    "        target_team = team_1 if team_selector == team_1.name else team_2\n",
    "\n",
    "        events = target_team.all_events[target_team.all_events['matchId'] == int(target_match['wyId'])] \n",
    "        \n",
    "        #unwrap xy coords of events : originally stored as dictionary elements in column 'positions'\n",
    "        events['x_start'] = events.apply(lambda row: row['positions'][0]['x'], axis=1)\n",
    "        events['y_start'] = events.apply(lambda row: 100-row['positions'][0]['y'], axis=1)\n",
    "        \n",
    "        #event times measured from start of every half => have to check which period an event is in : avoid by measuring all events from start of first half\n",
    "        events.loc[events.matchPeriod == '2H', 'eventSec'] = 45*60 + events['eventSec']\n",
    "        \n",
    "        #target team selected, now select (or not) target player\n",
    "        players_in_target_match = target_team.get_players_in_match(match_id=int(target_match['wyId']))\n",
    "        player_options = sorted(players_in_target_match['shortName'].tolist())\n",
    "        player_options.insert(0, 'All Players')\n",
    "        \n",
    "        player_selector = widgets.Dropdown(options=player_options, description='Player:', layout=Layout(margin='0px 0px 0px -14px'))\n",
    "        interact(select_player, player_selector=player_selector)\n",
    "\n",
    "    def select_player(player_selector):\n",
    "        global target_player, target_team, events\n",
    "        \n",
    "        target_player_name = player_selector\n",
    "                                \n",
    "        #filter events only if a player is selected\n",
    "        if target_player_name != 'All Players':\n",
    "            target_player = target_team.players[target_team.players['shortName'] == target_player_name]\n",
    "        else:\n",
    "            target_player = None\n",
    "            \n",
    "        #target team selected, now select type of event to analyse\n",
    "        event_selector = widgets.Dropdown(options=sorted(set(events['eventName'].tolist())), description='Event:', layout=Layout(margin='0px 0px 0px -20px'))\n",
    "        interact(select_event, event_selector=event_selector)\n",
    "\n",
    "        \n",
    "    def select_event(event_selector):\n",
    "        global target_team, target_player, events, selected_events\n",
    "        \n",
    "        if target_player is None:\n",
    "            selected_events = events[events['eventName'] == event_selector]\n",
    "        else:\n",
    "            target_player_id = int(target_player['wyId'])\n",
    "            target_player_events = events[events['playerId'] == target_player_id]\n",
    "            selected_events = target_player_events[target_player_events['eventName'] == event_selector]\n",
    "        \n",
    "        #type of event selected, now select time interval \n",
    "        range_selector = widgets.IntRangeSlider(value=[0, 90], min=0, max=90, step=10,description='Interval:',disabled=False, layout=Layout(margin='0px 0px 0px 1px'))\n",
    "        interact(select_range, range_selector=range_selector)\n",
    "\n",
    "    def select_range(range_selector):\n",
    "        global selected_events, target_match, target_team, target_player, target_events\n",
    "\n",
    "        #target events is selected_events constrained to a particular interval\n",
    "        target_events = selected_events[selected_events['eventSec'] >= range_selector[0] * 60]\n",
    "        target_events = target_events[target_events['eventSec'] <= range_selector[1] * 60]\n",
    "        \n",
    "#         print(target_events.shape) #for debugging\n",
    "\n",
    "        #======= EVERYTHING SELECTED, LEZZGO ==========#\n",
    "        plot_individual_events = widgets.Checkbox(value=False,description=': Plot individual events', indent=True, layout=Layout(margin='0px 0px 0px -20px'))\n",
    "        interact(plot, plot_individual_events=plot_individual_events)\n",
    "        \n",
    "        \n",
    "    def plot(plot_individual_events):\n",
    "        global selected_events, target_match, target_team, target_player, target_events\n",
    "        \n",
    "        # set plot title : get target player name, else write 'All Players'\n",
    "        if isinstance(target_player, pd.DataFrame):\n",
    "            player_name = target_player.iloc[0]['firstName'] + ' ' + target_player.iloc[0]['lastName']\n",
    "        else:\n",
    "            player_name = 'All Players'\n",
    "            \n",
    "        draw_pitch(target_match.iloc[0]['label'], target_team.name, player_name, target_events.iloc[0]['eventName'])\n",
    "        #prevent heatmap generation for sparse dataframes\n",
    "        try:\n",
    "            draw_heatmap(target_events)\n",
    "            if plot_individual_events:\n",
    "                draw_scatter(target_events)\n",
    "        except Exception as e:\n",
    "            #print(e) #for debugging\n",
    "            print(\"Not Enough Events For Density Estimation\")\n",
    "\n",
    "    #invoke team selector : get the ball rolling\n",
    "    interact_manual(select_teams, team_1_selector=team_1_selector, team_2_selector=team_2_selector)"
   ]
  },
  {
   "cell_type": "code",
   "execution_count": 202,
   "metadata": {
    "scrolled": false
   },
   "outputs": [
    {
     "data": {
      "application/vnd.jupyter.widget-view+json": {
       "model_id": "debf0c5c5d4c4a3cb7e381533d3c672b",
       "version_major": 2,
       "version_minor": 0
      },
      "text/plain": [
       "interactive(children=(Dropdown(description='Team 1:', options=('AFC Bournemouth', 'Arsenal', 'Brighton & Hove …"
      ]
     },
     "metadata": {},
     "output_type": "display_data"
    }
   ],
   "source": [
    "team_view_dashboard()"
   ]
  },
  {
   "cell_type": "markdown",
   "metadata": {},
   "source": [
    "## Build-Up to Goal Map : Still Under Development"
   ]
  },
  {
   "cell_type": "code",
   "execution_count": 220,
   "metadata": {
    "scrolled": false
   },
   "outputs": [
    {
     "data": {
      "text/plain": [
       "[28, 532, 924, 953]"
      ]
     },
     "metadata": {},
     "output_type": "display_data"
    },
    {
     "name": "stdout",
     "output_type": "stream",
     "text": [
      "[(66, 70), (59, 86), (75, 86), (72, 63), (85, 56), (87, 52), (89, 61), (92, 50)]\n"
     ]
    },
    {
     "data": {
      "image/png": "[encoded data removed]",
      "text/plain": [
       "<Figure size 1008x504 with 1 Axes>"
      ]
     },
     "metadata": {},
     "output_type": "display_data"
    }
   ],
   "source": [
    "import plotly.express as px\n",
    "\n",
    "afc = team('Arsenal')\n",
    "afc_lei_events = afc.all_events[afc.all_events['matchId'] == 2499719].reset_index(drop=True)\n",
    "afc_lei_shots = afc_lei_events[afc_lei_events['eventName'] == 'Shot']\n",
    "\n",
    "afc_lei_goals = pd.DataFrame(columns=afc_lei_shots.columns)\n",
    "afc_lei_goal_indices = []\n",
    "\n",
    "for index,row in afc_lei_shots.iterrows():\n",
    "    tags = [pair['id'] for pair in row['tags']]\n",
    "    if 101 in tags:\n",
    "        afc_lei_goals = afc_lei_goals.append(row)\n",
    "        afc_lei_goal_indices.append(index)\n",
    "        \n",
    "# display(afc_lei_goals)\n",
    "display(afc_lei_goal_indices)\n",
    "\n",
    "\n",
    "def get_events_leading_to_goal(goal_index):\n",
    "    events_leading_to_goal = afc_lei_events.loc[goal_index-7:goal_index]\n",
    "    events_leading_to_goal['x_start'] = events_leading_to_goal.apply(lambda row: row['positions'][0]['x'], axis=1)\n",
    "    events_leading_to_goal['y_start'] = events_leading_to_goal.apply(lambda row: 100-row['positions'][0]['y'], axis=1)\n",
    "#     display(events_leading_to_goal)\n",
    "\n",
    "    fig, ax = draw_pitch()\n",
    "    scatter = ax.scatter(x=events_leading_to_goal['x_start'], y=events_leading_to_goal['y_start'])\n",
    "    coords = list(zip(events_leading_to_goal['x_start'], events_leading_to_goal['y_start']))\n",
    "    print(coords)\n",
    "    arrow_params = {'length_includes_head':True}\n",
    "    for index,tup in enumerate(coords[:len(coords)-1]):\n",
    "        plt.arrow(x=tup[0], y=tup[1], dx=coords[index+1][0]-tup[0], dy=coords[index+1][1]-tup[1], **arrow_params)\n",
    "    \n",
    "    plt.axis('off')\n",
    "\n",
    "get_events_leading_to_goal(532)\n",
    "\n",
    "    \n"
   ]
  },
  {
   "cell_type": "code",
   "execution_count": null,
   "metadata": {},
   "outputs": [],
   "source": []
  }
 ],
 "metadata": {
  "kernelspec": {
   "display_name": "Python 3",
   "language": "python",
   "name": "python3"
  },
  "language_info": {
   "codemirror_mode": {
    "name": "ipython",
    "version": 3
   },
   "file_extension": ".py",
   "mimetype": "text/x-python",
   "name": "python",
   "nbconvert_exporter": "python",
   "pygments_lexer": "ipython3",
   "version": "3.6.4"
  }
 },
 "nbformat": 4,
 "nbformat_minor": 2
}
